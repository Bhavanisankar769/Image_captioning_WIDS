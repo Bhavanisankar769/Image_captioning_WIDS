{
 "cells": [
  {
   "cell_type": "code",
   "execution_count": 316,
   "id": "021f8a51",
   "metadata": {},
   "outputs": [],
   "source": [
    "from sklearn.datasets import make_classification\n",
    "from matplotlib import pyplot as plt\n",
    "from sklearn.linear_model import LogisticRegression,LinearRegression\n",
    "from sklearn.model_selection import train_test_split\n",
    "from sklearn.metrics import confusion_matrix,r2_score,accuracy_score\n",
    "from sklearn import metrics\n",
    "import pandas as pd\n",
    "import numpy as np\n",
    "%matplotlib inline\n",
    "import warnings\n",
    "warnings.filterwarnings('ignore')"
   ]
  },
  {
   "cell_type": "code",
   "execution_count": 317,
   "id": "6fdf073e",
   "metadata": {},
   "outputs": [],
   "source": [
    "a=pd.read_csv(r\"C:\\Users\\Jhanvi\\OneDrive\\Documents\\corrected train set.csv\")  #reading training set\n",
    "test=pd.read_csv(r\"C:\\Users\\Jhanvi\\OneDrive\\Documents\\week 1 test.csv\")          #reading test set\n",
    "\n",
    "answer=pd.read_csv(r\"C:\\Users\\Jhanvi\\OneDrive\\Documents\\week 1 test.csv\")         #reading same test set again to use in last part\n",
    "\n"
   ]
  },
  {
   "cell_type": "markdown",
   "id": "b959fa71",
   "metadata": {},
   "source": [
    "Here we are not using ( product_code) in prediction as training and test have only 'C' as common product.\n",
    "Assigning random values like 1,2,3,4 to respective materials as we have common types in attributes 0 and 1.\n"
   ]
  },
  {
   "cell_type": "code",
   "execution_count": 318,
   "id": "3e9cf811",
   "metadata": {},
   "outputs": [],
   "source": [
    "#a['product_code'].replace({\"A\":1,\"B\":2,\"C\":3,\"D\":4,\"E\":5},inplace=True)\n",
    "a['attribute_0'].replace({\"material_5\":1,\"material_6\":2,\"material_7\":3,\"material_8\":4,},inplace=True) #gave random values to attributes\n",
    "a['attribute_1'].replace({\"material_5\":4,\"material_6\":3,\"material_7\":2,\"material_8\":1},inplace=True) #treated attributes 0 and 1 as different so gave different unequal value\n",
    "a['attribute_3'].replace({5:9 ,6:8 ,8:7 ,9: 6},inplace=True)       # assuming same values in attributes 2 and 3 are unequal\n",
    "\n",
    "#test['product_code'].replace({\"A\":1,\"B\":2,\"C\":3,\"D\":4,\"E\":5},inplace=True)\n",
    "test['attribute_0'].replace({\"material_5\":1,\"material_6\":2,\"material_7\":3,\"material_8\":4},inplace=True)\n",
    "test['attribute_1'].replace({\"material_5\":4,\"material_6\":3,\"material_7\":2,\"material_8\":1},inplace=True)\n",
    "test['attribute_3'].replace({5:9 ,6:8 ,8:7 ,9: 6},inplace=True)   \n"
   ]
  },
  {
   "cell_type": "markdown",
   "id": "d03fb583",
   "metadata": {},
   "source": [
    " Dropping of unused columns from both training and test data\n",
    " Here iam not using product_code as input has mostly A,B,C but test data has mostly D,E"
   ]
  },
  {
   "cell_type": "code",
   "execution_count": 319,
   "id": "b444b83a",
   "metadata": {},
   "outputs": [],
   "source": [
    "x=a.drop(['id','failure','product_code'],axis=1)\n",
    "xtest=test.drop(['id','product_code'],axis=1)\n",
    "#xtest['attribute_1'].isnull().any()\n",
    "#xtest['attribute_1'].value_counts()       #check whether any null values are still there"
   ]
  },
  {
   "cell_type": "code",
   "execution_count": 320,
   "id": "a81c6e00",
   "metadata": {},
   "outputs": [],
   "source": [
    "y=a['failure']                        "
   ]
  },
  {
   "cell_type": "code",
   "execution_count": 321,
   "id": "c1d017b6",
   "metadata": {},
   "outputs": [],
   "source": [
    "x_train, x_test, y_train, y_test = train_test_split(x, y,test_size=0.2, random_state=1)       #splitting data in 80:20 ratio"
   ]
  },
  {
   "cell_type": "markdown",
   "id": "b5905fa2",
   "metadata": {},
   "source": [
    "Fill missing values using their mean by Simpleimputer"
   ]
  },
  {
   "cell_type": "code",
   "execution_count": 322,
   "id": "9bd7c4d1",
   "metadata": {},
   "outputs": [],
   "source": [
    "from sklearn.impute import SimpleImputer\n",
    "\n",
    "# Imputation\n",
    "my_imputer = SimpleImputer()\n",
    "X_train = pd.DataFrame(my_imputer.fit_transform(x_train))\n",
    "X_valid = pd.DataFrame(my_imputer.transform(x_test))\n",
    "Xtest=pd.DataFrame(my_imputer.fit_transform(xtest))        # Filling missing values in test data given in week1 test csv file\n",
    "\n",
    "# Imputation removed column names; put them back\n",
    "X_train.columns = x_train.columns\n",
    "X_valid.columns = x_test.columns\n",
    "Xtest.columns=xtest.columns"
   ]
  },
  {
   "cell_type": "markdown",
   "id": "9ecdf177",
   "metadata": {},
   "source": [
    "SCALING FEATURES "
   ]
  },
  {
   "cell_type": "code",
   "execution_count": 323,
   "id": "39042acd",
   "metadata": {},
   "outputs": [],
   "source": [
    "from sklearn.preprocessing import StandardScaler\n",
    "sc= StandardScaler()\n",
    "X_trai=sc.fit_transform(X_train)     #data obtained after scaling X_train\n",
    "X_tes=sc.transform(X_valid)           #data obtained after scaling X_valid\n",
    "Xtest=sc.fit_transform(Xtest)           #scaling the test data given in week1 test file csv"
   ]
  },
  {
   "cell_type": "code",
   "execution_count": 324,
   "id": "e84bf09d",
   "metadata": {},
   "outputs": [
    {
     "data": {
      "text/plain": [
       "LogisticRegression()"
      ]
     },
     "execution_count": 324,
     "metadata": {},
     "output_type": "execute_result"
    }
   ],
   "source": [
    "log_reg = LogisticRegression()      #logistic regression model\n",
    "log_reg.fit(X_trai, y_train)"
   ]
  },
  {
   "cell_type": "code",
   "execution_count": 325,
   "id": "0a2d6b38",
   "metadata": {},
   "outputs": [],
   "source": [
    "y_pred=log_reg.predict(X_tes)            # predicti0n after scaling of x_valid data"
   ]
  },
  {
   "cell_type": "code",
   "execution_count": 326,
   "id": "a13b5bf7",
   "metadata": {},
   "outputs": [],
   "source": [
    "cm=confusion_matrix(y_test,y_pred)      #confusion matrix to know the accuracy"
   ]
  },
  {
   "cell_type": "code",
   "execution_count": 327,
   "id": "7e1c27aa",
   "metadata": {},
   "outputs": [
    {
     "data": {
      "text/plain": [
       "array([[2541,    2],\n",
       "       [ 679,    0]], dtype=int64)"
      ]
     },
     "execution_count": 327,
     "metadata": {},
     "output_type": "execute_result"
    }
   ],
   "source": [
    "cm"
   ]
  },
  {
   "cell_type": "code",
   "execution_count": 328,
   "id": "61e0a261",
   "metadata": {},
   "outputs": [
    {
     "data": {
      "text/plain": [
       "0.7886405959031657"
      ]
     },
     "execution_count": 328,
     "metadata": {},
     "output_type": "execute_result"
    }
   ],
   "source": [
    "from sklearn.metrics import accuracy_score\n",
    "accuracy_score(y_test,y_pred)                   # meaasuring the accuracy of model"
   ]
  },
  {
   "cell_type": "code",
   "execution_count": 329,
   "id": "2cf7cb05",
   "metadata": {
    "scrolled": true
   },
   "outputs": [
    {
     "data": {
      "text/plain": [
       "array([0, 0, 0, 0, 0, 0, 0, 0, 0, 0, 0, 0, 0, 0, 0, 0, 0, 0, 0, 0, 0, 0,\n",
       "       0, 0, 0, 0, 0, 0, 0, 0, 0, 0, 0, 0, 0, 0, 0, 0, 0, 0, 0, 0, 0, 0,\n",
       "       0, 0, 0, 0, 0, 0, 0, 0, 0, 0, 0, 0, 0, 0, 0, 0, 0, 0, 0, 0, 0, 0,\n",
       "       0, 0, 0, 0, 0, 0, 0, 0, 0, 0, 0, 0, 0, 0, 0, 0, 0, 0, 0, 0, 0, 0,\n",
       "       0, 0, 0, 0, 0, 0, 0, 0, 0, 0, 0, 0], dtype=int64)"
      ]
     },
     "execution_count": 329,
     "metadata": {},
     "output_type": "execute_result"
    }
   ],
   "source": [
    "y_pred[:100]                                     # just typing some values of y_pred to see result\n"
   ]
  },
  {
   "cell_type": "code",
   "execution_count": 330,
   "id": "26be9361",
   "metadata": {},
   "outputs": [],
   "source": [
    "y_prob=log_reg.predict_proba(X_tes)[:,1]                   #real probability of above data\n"
   ]
  },
  {
   "cell_type": "code",
   "execution_count": 331,
   "id": "7eb546fd",
   "metadata": {},
   "outputs": [
    {
     "data": {
      "text/plain": [
       "array([0, 0, 0, 0, 0, 0, 0, 0, 0, 0, 0, 0, 0, 0, 0, 0, 0, 0, 0, 0, 0, 0,\n",
       "       0, 0, 0, 0, 0, 0, 0, 0, 0, 0, 0, 0, 0, 0, 0, 0, 0, 0, 0, 0, 0, 0,\n",
       "       0, 0, 0, 0, 0, 0], dtype=int64)"
      ]
     },
     "execution_count": 331,
     "metadata": {},
     "output_type": "execute_result"
    }
   ],
   "source": [
    "y1pred=log_reg.predict(Xtest)                                  #using the model to predict the test data given in week1 test csv file\n",
    "y1pred[:50]"
   ]
  },
  {
   "cell_type": "code",
   "execution_count": 332,
   "id": "6479471a",
   "metadata": {},
   "outputs": [],
   "source": [
    "y1_prob=log_reg.predict_proba(Xtest)[:,1]                           # gives the probability of obtaining 1"
   ]
  },
  {
   "cell_type": "code",
   "execution_count": 333,
   "id": "a6bc552c",
   "metadata": {},
   "outputs": [
    {
     "data": {
      "text/plain": [
       "array([0.23316915, 0.17317153, 0.13842435, 0.1990105 , 0.14783135,\n",
       "       0.17239551, 0.24178458, 0.14804624, 0.19019431, 0.19513211,\n",
       "       0.30603309, 0.22807174, 0.1815502 , 0.16334414, 0.18318149,\n",
       "       0.26481195, 0.21767573, 0.18686957, 0.2382789 , 0.21902798,\n",
       "       0.25883091, 0.21371256, 0.17503064, 0.21302179, 0.1806568 ,\n",
       "       0.21996655, 0.28614552, 0.15454922, 0.35350286, 0.17115015,\n",
       "       0.17018405, 0.17406175, 0.18922618, 0.19543647, 0.26818301,\n",
       "       0.33581138, 0.281009  , 0.23220992, 0.18330662, 0.15896843,\n",
       "       0.21501275, 0.19600669, 0.18088842, 0.21927921, 0.24796024,\n",
       "       0.21683903, 0.16822611, 0.21990688, 0.27808855, 0.23139055])"
      ]
     },
     "execution_count": 333,
     "metadata": {},
     "output_type": "execute_result"
    }
   ],
   "source": [
    "y1_prob[:50]                                                          #printing real probability(of obtaining1) in above data"
   ]
  },
  {
   "cell_type": "code",
   "execution_count": 334,
   "id": "d9266b5c",
   "metadata": {},
   "outputs": [
    {
     "data": {
      "text/plain": [
       "(10462, 25)"
      ]
     },
     "execution_count": 334,
     "metadata": {},
     "output_type": "execute_result"
    }
   ],
   "source": [
    "answer.shape                                  # to get idea on number of rows and columns in week 1 test csv file"
   ]
  },
  {
   "cell_type": "code",
   "execution_count": 341,
   "id": "ef83c18b",
   "metadata": {},
   "outputs": [
    {
     "data": {
      "text/plain": [
       "array([0.23316915, 0.17317153, 0.13842435, ..., 0.19671906, 0.17436058,\n",
       "       0.16887097])"
      ]
     },
     "execution_count": 341,
     "metadata": {},
     "output_type": "execute_result"
    }
   ],
   "source": [
    "y1_prob                                       # probability of outcome to be equal to 1"
   ]
  },
  {
   "cell_type": "code",
   "execution_count": 342,
   "id": "3cf06e54",
   "metadata": {},
   "outputs": [],
   "source": [
    "import numpy as np"
   ]
  },
  {
   "cell_type": "code",
   "execution_count": 343,
   "id": "dfe147e8",
   "metadata": {},
   "outputs": [],
   "source": [
    "ce=np.around(y1_prob,1)                          # rounding off to 1 decimal places"
   ]
  },
  {
   "cell_type": "code",
   "execution_count": 344,
   "id": "27e965ce",
   "metadata": {},
   "outputs": [],
   "source": [
    "answer['probability']=ce # adding the probability column to week1 test csv one"
   ]
  },
  {
   "cell_type": "code",
   "execution_count": 347,
   "id": "990c97e0",
   "metadata": {},
   "outputs": [
    {
     "data": {
      "text/html": [
       "<div>\n",
       "<style scoped>\n",
       "    .dataframe tbody tr th:only-of-type {\n",
       "        vertical-align: middle;\n",
       "    }\n",
       "\n",
       "    .dataframe tbody tr th {\n",
       "        vertical-align: top;\n",
       "    }\n",
       "\n",
       "    .dataframe thead th {\n",
       "        text-align: right;\n",
       "    }\n",
       "</style>\n",
       "<table border=\"1\" class=\"dataframe\">\n",
       "  <thead>\n",
       "    <tr style=\"text-align: right;\">\n",
       "      <th></th>\n",
       "      <th>id</th>\n",
       "      <th>probability</th>\n",
       "      <th>failure</th>\n",
       "    </tr>\n",
       "  </thead>\n",
       "  <tbody>\n",
       "    <tr>\n",
       "      <th>1000</th>\n",
       "      <td>17108</td>\n",
       "      <td>0.6</td>\n",
       "      <td>1</td>\n",
       "    </tr>\n",
       "    <tr>\n",
       "      <th>3182</th>\n",
       "      <td>19290</td>\n",
       "      <td>0.6</td>\n",
       "      <td>1</td>\n",
       "    </tr>\n",
       "    <tr>\n",
       "      <th>7194</th>\n",
       "      <td>23302</td>\n",
       "      <td>0.6</td>\n",
       "      <td>1</td>\n",
       "    </tr>\n",
       "    <tr>\n",
       "      <th>7771</th>\n",
       "      <td>23879</td>\n",
       "      <td>0.6</td>\n",
       "      <td>1</td>\n",
       "    </tr>\n",
       "    <tr>\n",
       "      <th>10006</th>\n",
       "      <td>26114</td>\n",
       "      <td>0.6</td>\n",
       "      <td>1</td>\n",
       "    </tr>\n",
       "  </tbody>\n",
       "</table>\n",
       "</div>"
      ],
      "text/plain": [
       "          id  probability  failure\n",
       "1000   17108          0.6        1\n",
       "3182   19290          0.6        1\n",
       "7194   23302          0.6        1\n",
       "7771   23879          0.6        1\n",
       "10006  26114          0.6        1"
      ]
     },
     "execution_count": 347,
     "metadata": {},
     "output_type": "execute_result"
    }
   ],
   "source": [
    "answer['failure']=y1pred\n",
    "\n",
    "fin=answer[['id','probability','failure']]\n",
    "fin[fin['probability']>0.5]                             #checking howmany examples have outcome greater than 0.5"
   ]
  },
  {
   "cell_type": "code",
   "execution_count": 348,
   "id": "ae4de8f3",
   "metadata": {},
   "outputs": [
    {
     "data": {
      "text/html": [
       "<div>\n",
       "<style scoped>\n",
       "    .dataframe tbody tr th:only-of-type {\n",
       "        vertical-align: middle;\n",
       "    }\n",
       "\n",
       "    .dataframe tbody tr th {\n",
       "        vertical-align: top;\n",
       "    }\n",
       "\n",
       "    .dataframe thead th {\n",
       "        text-align: right;\n",
       "    }\n",
       "</style>\n",
       "<table border=\"1\" class=\"dataframe\">\n",
       "  <thead>\n",
       "    <tr style=\"text-align: right;\">\n",
       "      <th></th>\n",
       "      <th>id</th>\n",
       "      <th>probability</th>\n",
       "      <th>failure</th>\n",
       "    </tr>\n",
       "  </thead>\n",
       "  <tbody>\n",
       "    <tr>\n",
       "      <th>0</th>\n",
       "      <td>16108</td>\n",
       "      <td>0.2</td>\n",
       "      <td>0</td>\n",
       "    </tr>\n",
       "    <tr>\n",
       "      <th>1</th>\n",
       "      <td>16109</td>\n",
       "      <td>0.2</td>\n",
       "      <td>0</td>\n",
       "    </tr>\n",
       "    <tr>\n",
       "      <th>2</th>\n",
       "      <td>16110</td>\n",
       "      <td>0.1</td>\n",
       "      <td>0</td>\n",
       "    </tr>\n",
       "    <tr>\n",
       "      <th>3</th>\n",
       "      <td>16111</td>\n",
       "      <td>0.2</td>\n",
       "      <td>0</td>\n",
       "    </tr>\n",
       "    <tr>\n",
       "      <th>4</th>\n",
       "      <td>16112</td>\n",
       "      <td>0.1</td>\n",
       "      <td>0</td>\n",
       "    </tr>\n",
       "    <tr>\n",
       "      <th>...</th>\n",
       "      <td>...</td>\n",
       "      <td>...</td>\n",
       "      <td>...</td>\n",
       "    </tr>\n",
       "    <tr>\n",
       "      <th>10457</th>\n",
       "      <td>26565</td>\n",
       "      <td>0.3</td>\n",
       "      <td>0</td>\n",
       "    </tr>\n",
       "    <tr>\n",
       "      <th>10458</th>\n",
       "      <td>26566</td>\n",
       "      <td>0.2</td>\n",
       "      <td>0</td>\n",
       "    </tr>\n",
       "    <tr>\n",
       "      <th>10459</th>\n",
       "      <td>26567</td>\n",
       "      <td>0.2</td>\n",
       "      <td>0</td>\n",
       "    </tr>\n",
       "    <tr>\n",
       "      <th>10460</th>\n",
       "      <td>26568</td>\n",
       "      <td>0.2</td>\n",
       "      <td>0</td>\n",
       "    </tr>\n",
       "    <tr>\n",
       "      <th>10461</th>\n",
       "      <td>26569</td>\n",
       "      <td>0.2</td>\n",
       "      <td>0</td>\n",
       "    </tr>\n",
       "  </tbody>\n",
       "</table>\n",
       "<p>10462 rows × 3 columns</p>\n",
       "</div>"
      ],
      "text/plain": [
       "          id  probability  failure\n",
       "0      16108          0.2        0\n",
       "1      16109          0.2        0\n",
       "2      16110          0.1        0\n",
       "3      16111          0.2        0\n",
       "4      16112          0.1        0\n",
       "...      ...          ...      ...\n",
       "10457  26565          0.3        0\n",
       "10458  26566          0.2        0\n",
       "10459  26567          0.2        0\n",
       "10460  26568          0.2        0\n",
       "10461  26569          0.2        0\n",
       "\n",
       "[10462 rows x 3 columns]"
      ]
     },
     "execution_count": 348,
     "metadata": {},
     "output_type": "execute_result"
    }
   ],
   "source": [
    "fin                                                      #final result obtained to me"
   ]
  },
  {
   "cell_type": "code",
   "execution_count": null,
   "id": "49669e0a",
   "metadata": {},
   "outputs": [],
   "source": []
  },
  {
   "cell_type": "code",
   "execution_count": null,
   "id": "1e56a445",
   "metadata": {},
   "outputs": [],
   "source": []
  },
  {
   "cell_type": "code",
   "execution_count": null,
   "id": "203bc456",
   "metadata": {},
   "outputs": [],
   "source": []
  }
 ],
 "metadata": {
  "kernelspec": {
   "display_name": "Python 3 (ipykernel)",
   "language": "python",
   "name": "python3"
  },
  "language_info": {
   "codemirror_mode": {
    "name": "ipython",
    "version": 3
   },
   "file_extension": ".py",
   "mimetype": "text/x-python",
   "name": "python",
   "nbconvert_exporter": "python",
   "pygments_lexer": "ipython3",
   "version": "3.9.12"
  }
 },
 "nbformat": 4,
 "nbformat_minor": 5
}
