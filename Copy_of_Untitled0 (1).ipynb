{
  "nbformat": 4,
  "nbformat_minor": 0,
  "metadata": {
    "colab": {
      "provenance": []
    },
    "kernelspec": {
      "name": "python3",
      "display_name": "Python 3"
    },
    "language_info": {
      "name": "python"
    }
  },
  "cells": [
    {
      "cell_type": "code",
      "execution_count": 2,
      "metadata": {
        "id": "9kdopLL6jzSU"
      },
      "outputs": [],
      "source": [
        "import pandas as pd"
      ]
    },
    {
      "cell_type": "code",
      "source": [
        "import numpy as np\n",
        "import matplotlib.pyplot as plt\n"
      ],
      "metadata": {
        "id": "to8-VUkkkRdL"
      },
      "execution_count": 3,
      "outputs": []
    },
    {
      "cell_type": "code",
      "source": [
        "data=pd.read_csv(\"LSTM_train_week4.csv\",index_col='Date')\n",
        "data"
      ],
      "metadata": {
        "colab": {
          "base_uri": "https://localhost:8080/",
          "height": 690
        },
        "id": "2ihHLg-8kU0j",
        "outputId": "83f3b98b-01ef-46d9-f832-765d378d3a94"
      },
      "execution_count": 5,
      "outputs": [
        {
          "output_type": "execute_result",
          "data": {
            "text/plain": [
              "           Price   Open   High    Low   Volume    Chg%  Unnamed: 7  \\\n",
              "Date                                                                 \n",
              "4-Jan-21   47.62  48.40  49.83  47.18  528.53K  -1.85%         NaN   \n",
              "5-Jan-21   49.93  47.38  50.20  47.24  643.19K   4.85%         NaN   \n",
              "6-Jan-21   50.63  49.82  50.94  49.48  509.37K   1.40%         NaN   \n",
              "7-Jan-21   50.83  50.53  51.28  50.39  369.29K   0.40%         NaN   \n",
              "8-Jan-21   52.24  50.93  52.75  50.81  499.42K   2.77%         NaN   \n",
              "...          ...    ...    ...    ...      ...     ...         ...   \n",
              "23-Nov-22  77.94  81.08  81.95  76.83  379.15K  -3.72%         NaN   \n",
              "24-Nov-22  77.95  77.53  78.19  76.92        0   0.01%         NaN   \n",
              "25-Nov-22  76.28  77.51  79.90  76.22  266.45K  -2.14%         NaN   \n",
              "28-Nov-22  77.24  75.93  77.84  73.60  405.03K   1.26%         NaN   \n",
              "29-Nov-22  78.20  76.54  79.65  76.29  381.87K   1.24%         NaN   \n",
              "\n",
              "           Unnamed: 8  Unnamed: 9  Unnamed: 10  Unnamed: 11  Unnamed: 12  \\\n",
              "Date                                                                       \n",
              "4-Jan-21          NaN         NaN          NaN          NaN          NaN   \n",
              "5-Jan-21          NaN         NaN          NaN          NaN          NaN   \n",
              "6-Jan-21          NaN         NaN          NaN          NaN          NaN   \n",
              "7-Jan-21          NaN         NaN          NaN          NaN          NaN   \n",
              "8-Jan-21          NaN         NaN          NaN          NaN          NaN   \n",
              "...               ...         ...          ...          ...          ...   \n",
              "23-Nov-22         NaN         NaN          NaN          NaN          NaN   \n",
              "24-Nov-22         NaN         NaN          NaN          NaN          NaN   \n",
              "25-Nov-22         NaN         NaN          NaN          NaN          NaN   \n",
              "28-Nov-22         NaN         NaN          NaN          NaN          NaN   \n",
              "29-Nov-22         NaN         NaN          NaN          NaN          NaN   \n",
              "\n",
              "           Unnamed: 13  Unnamed: 14  \n",
              "Date                                 \n",
              "4-Jan-21           NaN          NaN  \n",
              "5-Jan-21           NaN          NaN  \n",
              "6-Jan-21           NaN          NaN  \n",
              "7-Jan-21           NaN          NaN  \n",
              "8-Jan-21           NaN          NaN  \n",
              "...                ...          ...  \n",
              "23-Nov-22          NaN          NaN  \n",
              "24-Nov-22          NaN          NaN  \n",
              "25-Nov-22          NaN          NaN  \n",
              "28-Nov-22          NaN          NaN  \n",
              "29-Nov-22          NaN          NaN  \n",
              "\n",
              "[505 rows x 14 columns]"
            ],
            "text/html": [
              "\n",
              "  <div id=\"df-91dc9d30-723d-4a1c-b548-17f32d2f7d87\">\n",
              "    <div class=\"colab-df-container\">\n",
              "      <div>\n",
              "<style scoped>\n",
              "    .dataframe tbody tr th:only-of-type {\n",
              "        vertical-align: middle;\n",
              "    }\n",
              "\n",
              "    .dataframe tbody tr th {\n",
              "        vertical-align: top;\n",
              "    }\n",
              "\n",
              "    .dataframe thead th {\n",
              "        text-align: right;\n",
              "    }\n",
              "</style>\n",
              "<table border=\"1\" class=\"dataframe\">\n",
              "  <thead>\n",
              "    <tr style=\"text-align: right;\">\n",
              "      <th></th>\n",
              "      <th>Price</th>\n",
              "      <th>Open</th>\n",
              "      <th>High</th>\n",
              "      <th>Low</th>\n",
              "      <th>Volume</th>\n",
              "      <th>Chg%</th>\n",
              "      <th>Unnamed: 7</th>\n",
              "      <th>Unnamed: 8</th>\n",
              "      <th>Unnamed: 9</th>\n",
              "      <th>Unnamed: 10</th>\n",
              "      <th>Unnamed: 11</th>\n",
              "      <th>Unnamed: 12</th>\n",
              "      <th>Unnamed: 13</th>\n",
              "      <th>Unnamed: 14</th>\n",
              "    </tr>\n",
              "    <tr>\n",
              "      <th>Date</th>\n",
              "      <th></th>\n",
              "      <th></th>\n",
              "      <th></th>\n",
              "      <th></th>\n",
              "      <th></th>\n",
              "      <th></th>\n",
              "      <th></th>\n",
              "      <th></th>\n",
              "      <th></th>\n",
              "      <th></th>\n",
              "      <th></th>\n",
              "      <th></th>\n",
              "      <th></th>\n",
              "      <th></th>\n",
              "    </tr>\n",
              "  </thead>\n",
              "  <tbody>\n",
              "    <tr>\n",
              "      <th>4-Jan-21</th>\n",
              "      <td>47.62</td>\n",
              "      <td>48.40</td>\n",
              "      <td>49.83</td>\n",
              "      <td>47.18</td>\n",
              "      <td>528.53K</td>\n",
              "      <td>-1.85%</td>\n",
              "      <td>NaN</td>\n",
              "      <td>NaN</td>\n",
              "      <td>NaN</td>\n",
              "      <td>NaN</td>\n",
              "      <td>NaN</td>\n",
              "      <td>NaN</td>\n",
              "      <td>NaN</td>\n",
              "      <td>NaN</td>\n",
              "    </tr>\n",
              "    <tr>\n",
              "      <th>5-Jan-21</th>\n",
              "      <td>49.93</td>\n",
              "      <td>47.38</td>\n",
              "      <td>50.20</td>\n",
              "      <td>47.24</td>\n",
              "      <td>643.19K</td>\n",
              "      <td>4.85%</td>\n",
              "      <td>NaN</td>\n",
              "      <td>NaN</td>\n",
              "      <td>NaN</td>\n",
              "      <td>NaN</td>\n",
              "      <td>NaN</td>\n",
              "      <td>NaN</td>\n",
              "      <td>NaN</td>\n",
              "      <td>NaN</td>\n",
              "    </tr>\n",
              "    <tr>\n",
              "      <th>6-Jan-21</th>\n",
              "      <td>50.63</td>\n",
              "      <td>49.82</td>\n",
              "      <td>50.94</td>\n",
              "      <td>49.48</td>\n",
              "      <td>509.37K</td>\n",
              "      <td>1.40%</td>\n",
              "      <td>NaN</td>\n",
              "      <td>NaN</td>\n",
              "      <td>NaN</td>\n",
              "      <td>NaN</td>\n",
              "      <td>NaN</td>\n",
              "      <td>NaN</td>\n",
              "      <td>NaN</td>\n",
              "      <td>NaN</td>\n",
              "    </tr>\n",
              "    <tr>\n",
              "      <th>7-Jan-21</th>\n",
              "      <td>50.83</td>\n",
              "      <td>50.53</td>\n",
              "      <td>51.28</td>\n",
              "      <td>50.39</td>\n",
              "      <td>369.29K</td>\n",
              "      <td>0.40%</td>\n",
              "      <td>NaN</td>\n",
              "      <td>NaN</td>\n",
              "      <td>NaN</td>\n",
              "      <td>NaN</td>\n",
              "      <td>NaN</td>\n",
              "      <td>NaN</td>\n",
              "      <td>NaN</td>\n",
              "      <td>NaN</td>\n",
              "    </tr>\n",
              "    <tr>\n",
              "      <th>8-Jan-21</th>\n",
              "      <td>52.24</td>\n",
              "      <td>50.93</td>\n",
              "      <td>52.75</td>\n",
              "      <td>50.81</td>\n",
              "      <td>499.42K</td>\n",
              "      <td>2.77%</td>\n",
              "      <td>NaN</td>\n",
              "      <td>NaN</td>\n",
              "      <td>NaN</td>\n",
              "      <td>NaN</td>\n",
              "      <td>NaN</td>\n",
              "      <td>NaN</td>\n",
              "      <td>NaN</td>\n",
              "      <td>NaN</td>\n",
              "    </tr>\n",
              "    <tr>\n",
              "      <th>...</th>\n",
              "      <td>...</td>\n",
              "      <td>...</td>\n",
              "      <td>...</td>\n",
              "      <td>...</td>\n",
              "      <td>...</td>\n",
              "      <td>...</td>\n",
              "      <td>...</td>\n",
              "      <td>...</td>\n",
              "      <td>...</td>\n",
              "      <td>...</td>\n",
              "      <td>...</td>\n",
              "      <td>...</td>\n",
              "      <td>...</td>\n",
              "      <td>...</td>\n",
              "    </tr>\n",
              "    <tr>\n",
              "      <th>23-Nov-22</th>\n",
              "      <td>77.94</td>\n",
              "      <td>81.08</td>\n",
              "      <td>81.95</td>\n",
              "      <td>76.83</td>\n",
              "      <td>379.15K</td>\n",
              "      <td>-3.72%</td>\n",
              "      <td>NaN</td>\n",
              "      <td>NaN</td>\n",
              "      <td>NaN</td>\n",
              "      <td>NaN</td>\n",
              "      <td>NaN</td>\n",
              "      <td>NaN</td>\n",
              "      <td>NaN</td>\n",
              "      <td>NaN</td>\n",
              "    </tr>\n",
              "    <tr>\n",
              "      <th>24-Nov-22</th>\n",
              "      <td>77.95</td>\n",
              "      <td>77.53</td>\n",
              "      <td>78.19</td>\n",
              "      <td>76.92</td>\n",
              "      <td>0</td>\n",
              "      <td>0.01%</td>\n",
              "      <td>NaN</td>\n",
              "      <td>NaN</td>\n",
              "      <td>NaN</td>\n",
              "      <td>NaN</td>\n",
              "      <td>NaN</td>\n",
              "      <td>NaN</td>\n",
              "      <td>NaN</td>\n",
              "      <td>NaN</td>\n",
              "    </tr>\n",
              "    <tr>\n",
              "      <th>25-Nov-22</th>\n",
              "      <td>76.28</td>\n",
              "      <td>77.51</td>\n",
              "      <td>79.90</td>\n",
              "      <td>76.22</td>\n",
              "      <td>266.45K</td>\n",
              "      <td>-2.14%</td>\n",
              "      <td>NaN</td>\n",
              "      <td>NaN</td>\n",
              "      <td>NaN</td>\n",
              "      <td>NaN</td>\n",
              "      <td>NaN</td>\n",
              "      <td>NaN</td>\n",
              "      <td>NaN</td>\n",
              "      <td>NaN</td>\n",
              "    </tr>\n",
              "    <tr>\n",
              "      <th>28-Nov-22</th>\n",
              "      <td>77.24</td>\n",
              "      <td>75.93</td>\n",
              "      <td>77.84</td>\n",
              "      <td>73.60</td>\n",
              "      <td>405.03K</td>\n",
              "      <td>1.26%</td>\n",
              "      <td>NaN</td>\n",
              "      <td>NaN</td>\n",
              "      <td>NaN</td>\n",
              "      <td>NaN</td>\n",
              "      <td>NaN</td>\n",
              "      <td>NaN</td>\n",
              "      <td>NaN</td>\n",
              "      <td>NaN</td>\n",
              "    </tr>\n",
              "    <tr>\n",
              "      <th>29-Nov-22</th>\n",
              "      <td>78.20</td>\n",
              "      <td>76.54</td>\n",
              "      <td>79.65</td>\n",
              "      <td>76.29</td>\n",
              "      <td>381.87K</td>\n",
              "      <td>1.24%</td>\n",
              "      <td>NaN</td>\n",
              "      <td>NaN</td>\n",
              "      <td>NaN</td>\n",
              "      <td>NaN</td>\n",
              "      <td>NaN</td>\n",
              "      <td>NaN</td>\n",
              "      <td>NaN</td>\n",
              "      <td>NaN</td>\n",
              "    </tr>\n",
              "  </tbody>\n",
              "</table>\n",
              "<p>505 rows × 14 columns</p>\n",
              "</div>\n",
              "      <button class=\"colab-df-convert\" onclick=\"convertToInteractive('df-91dc9d30-723d-4a1c-b548-17f32d2f7d87')\"\n",
              "              title=\"Convert this dataframe to an interactive table.\"\n",
              "              style=\"display:none;\">\n",
              "        \n",
              "  <svg xmlns=\"http://www.w3.org/2000/svg\" height=\"24px\"viewBox=\"0 0 24 24\"\n",
              "       width=\"24px\">\n",
              "    <path d=\"M0 0h24v24H0V0z\" fill=\"none\"/>\n",
              "    <path d=\"M18.56 5.44l.94 2.06.94-2.06 2.06-.94-2.06-.94-.94-2.06-.94 2.06-2.06.94zm-11 1L8.5 8.5l.94-2.06 2.06-.94-2.06-.94L8.5 2.5l-.94 2.06-2.06.94zm10 10l.94 2.06.94-2.06 2.06-.94-2.06-.94-.94-2.06-.94 2.06-2.06.94z\"/><path d=\"M17.41 7.96l-1.37-1.37c-.4-.4-.92-.59-1.43-.59-.52 0-1.04.2-1.43.59L10.3 9.45l-7.72 7.72c-.78.78-.78 2.05 0 2.83L4 21.41c.39.39.9.59 1.41.59.51 0 1.02-.2 1.41-.59l7.78-7.78 2.81-2.81c.8-.78.8-2.07 0-2.86zM5.41 20L4 18.59l7.72-7.72 1.47 1.35L5.41 20z\"/>\n",
              "  </svg>\n",
              "      </button>\n",
              "      \n",
              "  <style>\n",
              "    .colab-df-container {\n",
              "      display:flex;\n",
              "      flex-wrap:wrap;\n",
              "      gap: 12px;\n",
              "    }\n",
              "\n",
              "    .colab-df-convert {\n",
              "      background-color: #E8F0FE;\n",
              "      border: none;\n",
              "      border-radius: 50%;\n",
              "      cursor: pointer;\n",
              "      display: none;\n",
              "      fill: #1967D2;\n",
              "      height: 32px;\n",
              "      padding: 0 0 0 0;\n",
              "      width: 32px;\n",
              "    }\n",
              "\n",
              "    .colab-df-convert:hover {\n",
              "      background-color: #E2EBFA;\n",
              "      box-shadow: 0px 1px 2px rgba(60, 64, 67, 0.3), 0px 1px 3px 1px rgba(60, 64, 67, 0.15);\n",
              "      fill: #174EA6;\n",
              "    }\n",
              "\n",
              "    [theme=dark] .colab-df-convert {\n",
              "      background-color: #3B4455;\n",
              "      fill: #D2E3FC;\n",
              "    }\n",
              "\n",
              "    [theme=dark] .colab-df-convert:hover {\n",
              "      background-color: #434B5C;\n",
              "      box-shadow: 0px 1px 3px 1px rgba(0, 0, 0, 0.15);\n",
              "      filter: drop-shadow(0px 1px 2px rgba(0, 0, 0, 0.3));\n",
              "      fill: #FFFFFF;\n",
              "    }\n",
              "  </style>\n",
              "\n",
              "      <script>\n",
              "        const buttonEl =\n",
              "          document.querySelector('#df-91dc9d30-723d-4a1c-b548-17f32d2f7d87 button.colab-df-convert');\n",
              "        buttonEl.style.display =\n",
              "          google.colab.kernel.accessAllowed ? 'block' : 'none';\n",
              "\n",
              "        async function convertToInteractive(key) {\n",
              "          const element = document.querySelector('#df-91dc9d30-723d-4a1c-b548-17f32d2f7d87');\n",
              "          const dataTable =\n",
              "            await google.colab.kernel.invokeFunction('convertToInteractive',\n",
              "                                                     [key], {});\n",
              "          if (!dataTable) return;\n",
              "\n",
              "          const docLinkHtml = 'Like what you see? Visit the ' +\n",
              "            '<a target=\"_blank\" href=https://colab.research.google.com/notebooks/data_table.ipynb>data table notebook</a>'\n",
              "            + ' to learn more about interactive tables.';\n",
              "          element.innerHTML = '';\n",
              "          dataTable['output_type'] = 'display_data';\n",
              "          await google.colab.output.renderOutput(dataTable, element);\n",
              "          const docLink = document.createElement('div');\n",
              "          docLink.innerHTML = docLinkHtml;\n",
              "          element.appendChild(docLink);\n",
              "        }\n",
              "      </script>\n",
              "    </div>\n",
              "  </div>\n",
              "  "
            ]
          },
          "metadata": {},
          "execution_count": 5
        }
      ]
    },
    {
      "cell_type": "code",
      "source": [
        "\n",
        "\n",
        "data=data[['Price']]\n",
        "\n",
        "data"
      ],
      "metadata": {
        "colab": {
          "base_uri": "https://localhost:8080/",
          "height": 455
        },
        "id": "ZRYYFPw4kdgt",
        "outputId": "9269f99d-88ea-4ced-8148-6dc474863a86"
      },
      "execution_count": 6,
      "outputs": [
        {
          "output_type": "execute_result",
          "data": {
            "text/plain": [
              "           Price\n",
              "Date            \n",
              "4-Jan-21   47.62\n",
              "5-Jan-21   49.93\n",
              "6-Jan-21   50.63\n",
              "7-Jan-21   50.83\n",
              "8-Jan-21   52.24\n",
              "...          ...\n",
              "23-Nov-22  77.94\n",
              "24-Nov-22  77.95\n",
              "25-Nov-22  76.28\n",
              "28-Nov-22  77.24\n",
              "29-Nov-22  78.20\n",
              "\n",
              "[505 rows x 1 columns]"
            ],
            "text/html": [
              "\n",
              "  <div id=\"df-175c864d-10e1-473d-a3bf-ab2d21ac7dfc\">\n",
              "    <div class=\"colab-df-container\">\n",
              "      <div>\n",
              "<style scoped>\n",
              "    .dataframe tbody tr th:only-of-type {\n",
              "        vertical-align: middle;\n",
              "    }\n",
              "\n",
              "    .dataframe tbody tr th {\n",
              "        vertical-align: top;\n",
              "    }\n",
              "\n",
              "    .dataframe thead th {\n",
              "        text-align: right;\n",
              "    }\n",
              "</style>\n",
              "<table border=\"1\" class=\"dataframe\">\n",
              "  <thead>\n",
              "    <tr style=\"text-align: right;\">\n",
              "      <th></th>\n",
              "      <th>Price</th>\n",
              "    </tr>\n",
              "    <tr>\n",
              "      <th>Date</th>\n",
              "      <th></th>\n",
              "    </tr>\n",
              "  </thead>\n",
              "  <tbody>\n",
              "    <tr>\n",
              "      <th>4-Jan-21</th>\n",
              "      <td>47.62</td>\n",
              "    </tr>\n",
              "    <tr>\n",
              "      <th>5-Jan-21</th>\n",
              "      <td>49.93</td>\n",
              "    </tr>\n",
              "    <tr>\n",
              "      <th>6-Jan-21</th>\n",
              "      <td>50.63</td>\n",
              "    </tr>\n",
              "    <tr>\n",
              "      <th>7-Jan-21</th>\n",
              "      <td>50.83</td>\n",
              "    </tr>\n",
              "    <tr>\n",
              "      <th>8-Jan-21</th>\n",
              "      <td>52.24</td>\n",
              "    </tr>\n",
              "    <tr>\n",
              "      <th>...</th>\n",
              "      <td>...</td>\n",
              "    </tr>\n",
              "    <tr>\n",
              "      <th>23-Nov-22</th>\n",
              "      <td>77.94</td>\n",
              "    </tr>\n",
              "    <tr>\n",
              "      <th>24-Nov-22</th>\n",
              "      <td>77.95</td>\n",
              "    </tr>\n",
              "    <tr>\n",
              "      <th>25-Nov-22</th>\n",
              "      <td>76.28</td>\n",
              "    </tr>\n",
              "    <tr>\n",
              "      <th>28-Nov-22</th>\n",
              "      <td>77.24</td>\n",
              "    </tr>\n",
              "    <tr>\n",
              "      <th>29-Nov-22</th>\n",
              "      <td>78.20</td>\n",
              "    </tr>\n",
              "  </tbody>\n",
              "</table>\n",
              "<p>505 rows × 1 columns</p>\n",
              "</div>\n",
              "      <button class=\"colab-df-convert\" onclick=\"convertToInteractive('df-175c864d-10e1-473d-a3bf-ab2d21ac7dfc')\"\n",
              "              title=\"Convert this dataframe to an interactive table.\"\n",
              "              style=\"display:none;\">\n",
              "        \n",
              "  <svg xmlns=\"http://www.w3.org/2000/svg\" height=\"24px\"viewBox=\"0 0 24 24\"\n",
              "       width=\"24px\">\n",
              "    <path d=\"M0 0h24v24H0V0z\" fill=\"none\"/>\n",
              "    <path d=\"M18.56 5.44l.94 2.06.94-2.06 2.06-.94-2.06-.94-.94-2.06-.94 2.06-2.06.94zm-11 1L8.5 8.5l.94-2.06 2.06-.94-2.06-.94L8.5 2.5l-.94 2.06-2.06.94zm10 10l.94 2.06.94-2.06 2.06-.94-2.06-.94-.94-2.06-.94 2.06-2.06.94z\"/><path d=\"M17.41 7.96l-1.37-1.37c-.4-.4-.92-.59-1.43-.59-.52 0-1.04.2-1.43.59L10.3 9.45l-7.72 7.72c-.78.78-.78 2.05 0 2.83L4 21.41c.39.39.9.59 1.41.59.51 0 1.02-.2 1.41-.59l7.78-7.78 2.81-2.81c.8-.78.8-2.07 0-2.86zM5.41 20L4 18.59l7.72-7.72 1.47 1.35L5.41 20z\"/>\n",
              "  </svg>\n",
              "      </button>\n",
              "      \n",
              "  <style>\n",
              "    .colab-df-container {\n",
              "      display:flex;\n",
              "      flex-wrap:wrap;\n",
              "      gap: 12px;\n",
              "    }\n",
              "\n",
              "    .colab-df-convert {\n",
              "      background-color: #E8F0FE;\n",
              "      border: none;\n",
              "      border-radius: 50%;\n",
              "      cursor: pointer;\n",
              "      display: none;\n",
              "      fill: #1967D2;\n",
              "      height: 32px;\n",
              "      padding: 0 0 0 0;\n",
              "      width: 32px;\n",
              "    }\n",
              "\n",
              "    .colab-df-convert:hover {\n",
              "      background-color: #E2EBFA;\n",
              "      box-shadow: 0px 1px 2px rgba(60, 64, 67, 0.3), 0px 1px 3px 1px rgba(60, 64, 67, 0.15);\n",
              "      fill: #174EA6;\n",
              "    }\n",
              "\n",
              "    [theme=dark] .colab-df-convert {\n",
              "      background-color: #3B4455;\n",
              "      fill: #D2E3FC;\n",
              "    }\n",
              "\n",
              "    [theme=dark] .colab-df-convert:hover {\n",
              "      background-color: #434B5C;\n",
              "      box-shadow: 0px 1px 3px 1px rgba(0, 0, 0, 0.15);\n",
              "      filter: drop-shadow(0px 1px 2px rgba(0, 0, 0, 0.3));\n",
              "      fill: #FFFFFF;\n",
              "    }\n",
              "  </style>\n",
              "\n",
              "      <script>\n",
              "        const buttonEl =\n",
              "          document.querySelector('#df-175c864d-10e1-473d-a3bf-ab2d21ac7dfc button.colab-df-convert');\n",
              "        buttonEl.style.display =\n",
              "          google.colab.kernel.accessAllowed ? 'block' : 'none';\n",
              "\n",
              "        async function convertToInteractive(key) {\n",
              "          const element = document.querySelector('#df-175c864d-10e1-473d-a3bf-ab2d21ac7dfc');\n",
              "          const dataTable =\n",
              "            await google.colab.kernel.invokeFunction('convertToInteractive',\n",
              "                                                     [key], {});\n",
              "          if (!dataTable) return;\n",
              "\n",
              "          const docLinkHtml = 'Like what you see? Visit the ' +\n",
              "            '<a target=\"_blank\" href=https://colab.research.google.com/notebooks/data_table.ipynb>data table notebook</a>'\n",
              "            + ' to learn more about interactive tables.';\n",
              "          element.innerHTML = '';\n",
              "          dataTable['output_type'] = 'display_data';\n",
              "          await google.colab.output.renderOutput(dataTable, element);\n",
              "          const docLink = document.createElement('div');\n",
              "          docLink.innerHTML = docLinkHtml;\n",
              "          element.appendChild(docLink);\n",
              "        }\n",
              "      </script>\n",
              "    </div>\n",
              "  </div>\n",
              "  "
            ]
          },
          "metadata": {},
          "execution_count": 6
        }
      ]
    },
    {
      "cell_type": "code",
      "source": [
        "data.plot()\n"
      ],
      "metadata": {
        "colab": {
          "base_uri": "https://localhost:8080/",
          "height": 296
        },
        "id": "GakvBu3IkoE8",
        "outputId": "da7288f5-1505-43a0-8d8e-17e2972a1218"
      },
      "execution_count": 7,
      "outputs": [
        {
          "output_type": "execute_result",
          "data": {
            "text/plain": [
              "<matplotlib.axes._subplots.AxesSubplot at 0x7ff7933a6c10>"
            ]
          },
          "metadata": {},
          "execution_count": 7
        },
        {
          "output_type": "display_data",
          "data": {
            "text/plain": [
              "<Figure size 432x288 with 1 Axes>"
            ],
            "image/png": "[encoded data removed]"
          },
          "metadata": {
            "needs_background": "light"
          }
        }
      ]
    },
    {
      "cell_type": "code",
      "source": [
        "len(data)"
      ],
      "metadata": {
        "colab": {
          "base_uri": "https://localhost:8080/"
        },
        "id": "OnTHFx0NuXps",
        "outputId": "ebcea9eb-273a-4344-8601-3075c3202b63"
      },
      "execution_count": 8,
      "outputs": [
        {
          "output_type": "execute_result",
          "data": {
            "text/plain": [
              "505"
            ]
          },
          "metadata": {},
          "execution_count": 8
        }
      ]
    },
    {
      "cell_type": "code",
      "source": [
        "train=data.iloc[0:480]\n",
        "test=data.iloc[480:]\n"
      ],
      "metadata": {
        "id": "Vn2LKaoGmLp2"
      },
      "execution_count": 36,
      "outputs": []
    },
    {
      "cell_type": "code",
      "source": [
        "from sklearn.preprocessing import MinMaxScaler\n",
        "scaler = MinMaxScaler()"
      ],
      "metadata": {
        "id": "GcUXpwxEuU-z"
      },
      "execution_count": 37,
      "outputs": []
    },
    {
      "cell_type": "code",
      "source": [
        "scaler.fit(train)\n",
        "scaled_train=scaler.transform(train)           \n",
        "scaled_test=scaler.transform(test)"
      ],
      "metadata": {
        "id": "mcG3PaSJpcOq"
      },
      "execution_count": 38,
      "outputs": []
    },
    {
      "cell_type": "code",
      "source": [],
      "metadata": {
        "id": "bfdJ1pXWxsVq"
      },
      "execution_count": 38,
      "outputs": []
    },
    {
      "cell_type": "code",
      "source": [
        "from keras.preprocessing.sequence import TimeseriesGenerator"
      ],
      "metadata": {
        "id": "z0VsGRFlx36l"
      },
      "execution_count": 39,
      "outputs": []
    },
    {
      "cell_type": "code",
      "source": [
        "n_input = 3\n",
        "n_features = 1\n",
        "generator = TimeseriesGenerator(scaled_train, scaled_train, length=n_input, batch_size=1)"
      ],
      "metadata": {
        "id": "I1QegdebyXU4"
      },
      "execution_count": 84,
      "outputs": []
    },
    {
      "cell_type": "code",
      "source": [
        "X,y = generator[1]\n",
        "print(f'Given the Array: \\n{X.flatten()}')\n",
        "print(f'Predict this y: \\n {y}')"
      ],
      "metadata": {
        "colab": {
          "base_uri": "https://localhost:8080/"
        },
        "id": "583f54QZyoZS",
        "outputId": "93b15fd3-8664-4e42-f2c6-e7fd6035f393"
      },
      "execution_count": 85,
      "outputs": [
        {
          "output_type": "stream",
          "name": "stdout",
          "text": [
            "Given the Array: \n",
            "[0.03036278 0.03956362 0.04219243]\n",
            "Predict this y: \n",
            " [[0.06072555]]\n"
          ]
        }
      ]
    },
    {
      "cell_type": "code",
      "source": [
        "from keras.models import Sequential\n",
        "from keras.layers import Dense\n",
        "from keras.layers import LSTM\n",
        "     "
      ],
      "metadata": {
        "id": "zs3C_YkXy1Hv"
      },
      "execution_count": 86,
      "outputs": []
    },
    {
      "cell_type": "code",
      "source": [
        "model = Sequential()\n",
        "model.add(LSTM(100, activation='relu', input_shape=(n_input, n_features)))\n",
        "model.add(Dense(1))\n",
        "model.compile(optimizer='adam', loss='mse')\n",
        "     "
      ],
      "metadata": {
        "id": "FtHFsbouzC0f"
      },
      "execution_count": 87,
      "outputs": []
    },
    {
      "cell_type": "code",
      "source": [
        "model.fit(generator,epochs=50)"
      ],
      "metadata": {
        "colab": {
          "base_uri": "https://localhost:8080/"
        },
        "id": "p0dhSEynzJ1W",
        "outputId": "97bab577-b623-45bd-8709-7706f6d61d8a"
      },
      "execution_count": 88,
      "outputs": [
        {
          "output_type": "stream",
          "name": "stdout",
          "text": [
            "Epoch 1/50\n",
            "477/477 [==============================] - 3s 4ms/step - loss: 0.0228\n",
            "Epoch 2/50\n",
            "477/477 [==============================] - 2s 4ms/step - loss: 0.0020\n",
            "Epoch 3/50\n",
            "477/477 [==============================] - 2s 4ms/step - loss: 0.0019\n",
            "Epoch 4/50\n",
            "477/477 [==============================] - 2s 4ms/step - loss: 0.0018\n",
            "Epoch 5/50\n",
            "477/477 [==============================] - 2s 4ms/step - loss: 0.0019\n",
            "Epoch 6/50\n",
            "477/477 [==============================] - 2s 4ms/step - loss: 0.0020\n",
            "Epoch 7/50\n",
            "477/477 [==============================] - 2s 4ms/step - loss: 0.0018\n",
            "Epoch 8/50\n",
            "477/477 [==============================] - 2s 4ms/step - loss: 0.0018\n",
            "Epoch 9/50\n",
            "477/477 [==============================] - 2s 4ms/step - loss: 0.0017\n",
            "Epoch 10/50\n",
            "477/477 [==============================] - 2s 4ms/step - loss: 0.0017\n",
            "Epoch 11/50\n",
            "477/477 [==============================] - 2s 4ms/step - loss: 0.0016\n",
            "Epoch 12/50\n",
            "477/477 [==============================] - 2s 4ms/step - loss: 0.0016\n",
            "Epoch 13/50\n",
            "477/477 [==============================] - 2s 4ms/step - loss: 0.0015\n",
            "Epoch 14/50\n",
            "477/477 [==============================] - 2s 4ms/step - loss: 0.0015\n",
            "Epoch 15/50\n",
            "477/477 [==============================] - 2s 4ms/step - loss: 0.0014\n",
            "Epoch 16/50\n",
            "477/477 [==============================] - 2s 4ms/step - loss: 0.0014\n",
            "Epoch 17/50\n",
            "477/477 [==============================] - 2s 4ms/step - loss: 0.0013\n",
            "Epoch 18/50\n",
            "477/477 [==============================] - 2s 4ms/step - loss: 0.0014\n",
            "Epoch 19/50\n",
            "477/477 [==============================] - 2s 4ms/step - loss: 0.0014\n",
            "Epoch 20/50\n",
            "477/477 [==============================] - 2s 4ms/step - loss: 0.0013\n",
            "Epoch 21/50\n",
            "477/477 [==============================] - 2s 4ms/step - loss: 0.0014\n",
            "Epoch 22/50\n",
            "477/477 [==============================] - 2s 4ms/step - loss: 0.0013\n",
            "Epoch 23/50\n",
            "477/477 [==============================] - 2s 4ms/step - loss: 0.0014\n",
            "Epoch 24/50\n",
            "477/477 [==============================] - 2s 4ms/step - loss: 0.0013\n",
            "Epoch 25/50\n",
            "477/477 [==============================] - 2s 4ms/step - loss: 0.0014\n",
            "Epoch 26/50\n",
            "477/477 [==============================] - 2s 4ms/step - loss: 0.0013\n",
            "Epoch 27/50\n",
            "477/477 [==============================] - 2s 4ms/step - loss: 0.0013\n",
            "Epoch 28/50\n",
            "477/477 [==============================] - 2s 4ms/step - loss: 0.0013\n",
            "Epoch 29/50\n",
            "477/477 [==============================] - 2s 4ms/step - loss: 0.0013\n",
            "Epoch 30/50\n",
            "477/477 [==============================] - 2s 4ms/step - loss: 0.0012\n",
            "Epoch 31/50\n",
            "477/477 [==============================] - 2s 4ms/step - loss: 0.0013\n",
            "Epoch 32/50\n",
            "477/477 [==============================] - 2s 4ms/step - loss: 0.0012\n",
            "Epoch 33/50\n",
            "477/477 [==============================] - 2s 4ms/step - loss: 0.0013\n",
            "Epoch 34/50\n",
            "477/477 [==============================] - 2s 4ms/step - loss: 0.0011\n",
            "Epoch 35/50\n",
            "477/477 [==============================] - 2s 4ms/step - loss: 0.0012\n",
            "Epoch 36/50\n",
            "477/477 [==============================] - 2s 4ms/step - loss: 0.0012\n",
            "Epoch 37/50\n",
            "477/477 [==============================] - 2s 4ms/step - loss: 0.0013\n",
            "Epoch 38/50\n",
            "477/477 [==============================] - 2s 4ms/step - loss: 0.0013\n",
            "Epoch 39/50\n",
            "477/477 [==============================] - 2s 4ms/step - loss: 0.0012\n",
            "Epoch 40/50\n",
            "477/477 [==============================] - 2s 4ms/step - loss: 0.0013\n",
            "Epoch 41/50\n",
            "477/477 [==============================] - 2s 4ms/step - loss: 0.0013\n",
            "Epoch 42/50\n",
            "477/477 [==============================] - 2s 4ms/step - loss: 0.0012\n",
            "Epoch 43/50\n",
            "477/477 [==============================] - 2s 4ms/step - loss: 0.0013\n",
            "Epoch 44/50\n",
            "477/477 [==============================] - 2s 4ms/step - loss: 0.0013\n",
            "Epoch 45/50\n",
            "477/477 [==============================] - 2s 4ms/step - loss: 0.0013\n",
            "Epoch 46/50\n",
            "477/477 [==============================] - 2s 4ms/step - loss: 0.0013\n",
            "Epoch 47/50\n",
            "477/477 [==============================] - 2s 4ms/step - loss: 0.0012\n",
            "Epoch 48/50\n",
            "477/477 [==============================] - 2s 4ms/step - loss: 0.0012\n",
            "Epoch 49/50\n",
            "477/477 [==============================] - 2s 4ms/step - loss: 0.0012\n",
            "Epoch 50/50\n",
            "477/477 [==============================] - 2s 4ms/step - loss: 0.0012\n"
          ]
        },
        {
          "output_type": "execute_result",
          "data": {
            "text/plain": [
              "<keras.callbacks.History at 0x7ff72bd96730>"
            ]
          },
          "metadata": {},
          "execution_count": 88
        }
      ]
    },
    {
      "cell_type": "code",
      "source": [
        "# scaled_tryit=scaled_test[0:5]\n",
        "# trythis=scaled_tryit.reshape(1,10,1)"
      ],
      "metadata": {
        "id": "j53ZYD8izUpz"
      },
      "execution_count": 89,
      "outputs": []
    },
    {
      "cell_type": "code",
      "source": [
        "#model.predict(trythis)"
      ],
      "metadata": {
        "id": "xRChqMHu0VDt"
      },
      "execution_count": 90,
      "outputs": []
    },
    {
      "cell_type": "code",
      "source": [
        "scaled_test[10]"
      ],
      "metadata": {
        "colab": {
          "base_uri": "https://localhost:8080/"
        },
        "id": "nzl_Irbz1Pij",
        "outputId": "36926fdb-db03-4a03-b035-b2e743bf1818"
      },
      "execution_count": 91,
      "outputs": [
        {
          "output_type": "execute_result",
          "data": {
            "text/plain": [
              "array([0.50223449])"
            ]
          },
          "metadata": {},
          "execution_count": 91
        }
      ]
    },
    {
      "cell_type": "code",
      "source": [
        "test_predictions = []\n",
        "\n",
        "first_eval_batch = scaled_train[-n_input:]\n",
        "current_batch = first_eval_batch.reshape((1, n_input, n_features))\n",
        "\n",
        "for i in range(len(test)):\n",
        "    \n",
        "    # get the prediction value for the first batch\n",
        "    current_pred = model.predict(current_batch)[0]\n",
        "    \n",
        "    # append the prediction into the array\n",
        "    test_predictions.append(current_pred) \n",
        "    \n",
        "    # use the prediction to update the batch and remove the first value\n",
        "    current_batch = np.append(current_batch[:,1:,:],[[current_pred]],axis=1)"
      ],
      "metadata": {
        "colab": {
          "base_uri": "https://localhost:8080/"
        },
        "id": "Q2gkGVd-1o50",
        "outputId": "7fa39f2e-4ed7-46d4-e202-13b94c5e8f4b"
      },
      "execution_count": 92,
      "outputs": [
        {
          "output_type": "stream",
          "name": "stdout",
          "text": [
            "1/1 [==============================] - 0s 178ms/step\n",
            "1/1 [==============================] - 0s 21ms/step\n",
            "1/1 [==============================] - 0s 21ms/step\n",
            "1/1 [==============================] - 0s 24ms/step\n",
            "1/1 [==============================] - 0s 28ms/step\n",
            "1/1 [==============================] - 0s 20ms/step\n",
            "1/1 [==============================] - 0s 19ms/step\n",
            "1/1 [==============================] - 0s 19ms/step\n",
            "1/1 [==============================] - 0s 22ms/step\n",
            "1/1 [==============================] - 0s 19ms/step\n",
            "1/1 [==============================] - 0s 21ms/step\n",
            "1/1 [==============================] - 0s 19ms/step\n",
            "1/1 [==============================] - 0s 20ms/step\n",
            "1/1 [==============================] - 0s 18ms/step\n",
            "1/1 [==============================] - 0s 19ms/step\n",
            "1/1 [==============================] - 0s 20ms/step\n",
            "1/1 [==============================] - 0s 23ms/step\n",
            "1/1 [==============================] - 0s 19ms/step\n",
            "1/1 [==============================] - 0s 18ms/step\n",
            "1/1 [==============================] - 0s 18ms/step\n",
            "1/1 [==============================] - 0s 19ms/step\n",
            "1/1 [==============================] - 0s 25ms/step\n",
            "1/1 [==============================] - 0s 23ms/step\n",
            "1/1 [==============================] - 0s 19ms/step\n",
            "1/1 [==============================] - 0s 20ms/step\n"
          ]
        }
      ]
    },
    {
      "cell_type": "code",
      "source": [
        "test_predictions"
      ],
      "metadata": {
        "colab": {
          "base_uri": "https://localhost:8080/"
        },
        "id": "MYjj8PO215_k",
        "outputId": "2ef04932-9858-4651-e17b-dac4a4446a4e"
      },
      "execution_count": 93,
      "outputs": [
        {
          "output_type": "execute_result",
          "data": {
            "text/plain": [
              "[array([0.49782282], dtype=float32),\n",
              " array([0.50044197], dtype=float32),\n",
              " array([0.50344634], dtype=float32),\n",
              " array([0.5064333], dtype=float32),\n",
              " array([0.5094167], dtype=float32),\n",
              " array([0.51241785], dtype=float32),\n",
              " array([0.515435], dtype=float32),\n",
              " array([0.5184688], dtype=float32),\n",
              " array([0.52152133], dtype=float32),\n",
              " array([0.52459407], dtype=float32),\n",
              " array([0.5276887], dtype=float32),\n",
              " array([0.5308069], dtype=float32),\n",
              " array([0.53395045], dtype=float32),\n",
              " array([0.537126], dtype=float32),\n",
              " array([0.54034215], dtype=float32),\n",
              " array([0.54359984], dtype=float32),\n",
              " array([0.5469012], dtype=float32),\n",
              " array([0.55024856], dtype=float32),\n",
              " array([0.55364436], dtype=float32),\n",
              " array([0.55709106], dtype=float32),\n",
              " array([0.56059146], dtype=float32),\n",
              " array([0.56414825], dtype=float32),\n",
              " array([0.5677642], dtype=float32),\n",
              " array([0.5714427], dtype=float32),\n",
              " array([0.5751869], dtype=float32)]"
            ]
          },
          "metadata": {},
          "execution_count": 93
        }
      ]
    },
    {
      "cell_type": "code",
      "source": [
        "truepredictions=scaler.inverse_transform(test_predictions)\n",
        "test['prediction']=truepredictions\n",
        "\n"
      ],
      "metadata": {
        "id": "vZQ4m8Tl2A_T",
        "colab": {
          "base_uri": "https://localhost:8080/"
        },
        "outputId": "88718296-e7a7-4bc0-e140-742e42ebef38"
      },
      "execution_count": 94,
      "outputs": [
        {
          "output_type": "stream",
          "name": "stderr",
          "text": [
            "<ipython-input-94-c64ac945ba4b>:2: SettingWithCopyWarning: \n",
            "A value is trying to be set on a copy of a slice from a DataFrame.\n",
            "Try using .loc[row_indexer,col_indexer] = value instead\n",
            "\n",
            "See the caveats in the documentation: https://pandas.pydata.org/pandas-docs/stable/user_guide/indexing.html#returning-a-view-versus-a-copy\n",
            "  test['prediction']=truepredictions\n"
          ]
        }
      ]
    },
    {
      "cell_type": "code",
      "source": [
        "test"
      ],
      "metadata": {
        "colab": {
          "base_uri": "https://localhost:8080/",
          "height": 864
        },
        "id": "iXHnaJQ4tTua",
        "outputId": "b6a58292-e5e0-4cee-c32b-9c856e7ae22d"
      },
      "execution_count": 95,
      "outputs": [
        {
          "output_type": "execute_result",
          "data": {
            "text/plain": [
              "           Price  prediction\n",
              "Date                        \n",
              "26-Oct-22  87.91   85.494360\n",
              "27-Oct-22  89.08   85.693625\n",
              "28-Oct-22  87.90   85.922198\n",
              "31-Oct-22  86.53   86.149446\n",
              "1-Nov-22   88.37   86.376422\n",
              "2-Nov-22   90.00   86.604750\n",
              "3-Nov-22   88.17   86.834293\n",
              "4-Nov-22   92.61   87.065106\n",
              "7-Nov-22   91.79   87.297343\n",
              "8-Nov-22   88.91   87.531117\n",
              "9-Nov-22   85.83   87.766555\n",
              "10-Nov-22  86.47   88.003789\n",
              "11-Nov-22  88.96   88.242950\n",
              "14-Nov-22  85.87   88.484546\n",
              "15-Nov-22  86.92   88.729231\n",
              "16-Nov-22  85.59   88.977076\n",
              "17-Nov-22  81.64   89.228245\n",
              "18-Nov-22  80.08   89.482911\n",
              "21-Nov-22  79.73   89.741263\n",
              "22-Nov-22  80.95   90.003488\n",
              "23-Nov-22  77.94   90.269798\n",
              "24-Nov-22  77.95   90.540399\n",
              "25-Nov-22  76.28   90.815502\n",
              "28-Nov-22  77.24   91.095362\n",
              "29-Nov-22  78.20   91.380220"
            ],
            "text/html": [
              "\n",
              "  <div id=\"df-dfb313b7-abe0-46d8-9336-31661840ed87\">\n",
              "    <div class=\"colab-df-container\">\n",
              "      <div>\n",
              "<style scoped>\n",
              "    .dataframe tbody tr th:only-of-type {\n",
              "        vertical-align: middle;\n",
              "    }\n",
              "\n",
              "    .dataframe tbody tr th {\n",
              "        vertical-align: top;\n",
              "    }\n",
              "\n",
              "    .dataframe thead th {\n",
              "        text-align: right;\n",
              "    }\n",
              "</style>\n",
              "<table border=\"1\" class=\"dataframe\">\n",
              "  <thead>\n",
              "    <tr style=\"text-align: right;\">\n",
              "      <th></th>\n",
              "      <th>Price</th>\n",
              "      <th>prediction</th>\n",
              "    </tr>\n",
              "    <tr>\n",
              "      <th>Date</th>\n",
              "      <th></th>\n",
              "      <th></th>\n",
              "    </tr>\n",
              "  </thead>\n",
              "  <tbody>\n",
              "    <tr>\n",
              "      <th>26-Oct-22</th>\n",
              "      <td>87.91</td>\n",
              "      <td>85.494360</td>\n",
              "    </tr>\n",
              "    <tr>\n",
              "      <th>27-Oct-22</th>\n",
              "      <td>89.08</td>\n",
              "      <td>85.693625</td>\n",
              "    </tr>\n",
              "    <tr>\n",
              "      <th>28-Oct-22</th>\n",
              "      <td>87.90</td>\n",
              "      <td>85.922198</td>\n",
              "    </tr>\n",
              "    <tr>\n",
              "      <th>31-Oct-22</th>\n",
              "      <td>86.53</td>\n",
              "      <td>86.149446</td>\n",
              "    </tr>\n",
              "    <tr>\n",
              "      <th>1-Nov-22</th>\n",
              "      <td>88.37</td>\n",
              "      <td>86.376422</td>\n",
              "    </tr>\n",
              "    <tr>\n",
              "      <th>2-Nov-22</th>\n",
              "      <td>90.00</td>\n",
              "      <td>86.604750</td>\n",
              "    </tr>\n",
              "    <tr>\n",
              "      <th>3-Nov-22</th>\n",
              "      <td>88.17</td>\n",
              "      <td>86.834293</td>\n",
              "    </tr>\n",
              "    <tr>\n",
              "      <th>4-Nov-22</th>\n",
              "      <td>92.61</td>\n",
              "      <td>87.065106</td>\n",
              "    </tr>\n",
              "    <tr>\n",
              "      <th>7-Nov-22</th>\n",
              "      <td>91.79</td>\n",
              "      <td>87.297343</td>\n",
              "    </tr>\n",
              "    <tr>\n",
              "      <th>8-Nov-22</th>\n",
              "      <td>88.91</td>\n",
              "      <td>87.531117</td>\n",
              "    </tr>\n",
              "    <tr>\n",
              "      <th>9-Nov-22</th>\n",
              "      <td>85.83</td>\n",
              "      <td>87.766555</td>\n",
              "    </tr>\n",
              "    <tr>\n",
              "      <th>10-Nov-22</th>\n",
              "      <td>86.47</td>\n",
              "      <td>88.003789</td>\n",
              "    </tr>\n",
              "    <tr>\n",
              "      <th>11-Nov-22</th>\n",
              "      <td>88.96</td>\n",
              "      <td>88.242950</td>\n",
              "    </tr>\n",
              "    <tr>\n",
              "      <th>14-Nov-22</th>\n",
              "      <td>85.87</td>\n",
              "      <td>88.484546</td>\n",
              "    </tr>\n",
              "    <tr>\n",
              "      <th>15-Nov-22</th>\n",
              "      <td>86.92</td>\n",
              "      <td>88.729231</td>\n",
              "    </tr>\n",
              "    <tr>\n",
              "      <th>16-Nov-22</th>\n",
              "      <td>85.59</td>\n",
              "      <td>88.977076</td>\n",
              "    </tr>\n",
              "    <tr>\n",
              "      <th>17-Nov-22</th>\n",
              "      <td>81.64</td>\n",
              "      <td>89.228245</td>\n",
              "    </tr>\n",
              "    <tr>\n",
              "      <th>18-Nov-22</th>\n",
              "      <td>80.08</td>\n",
              "      <td>89.482911</td>\n",
              "    </tr>\n",
              "    <tr>\n",
              "      <th>21-Nov-22</th>\n",
              "      <td>79.73</td>\n",
              "      <td>89.741263</td>\n",
              "    </tr>\n",
              "    <tr>\n",
              "      <th>22-Nov-22</th>\n",
              "      <td>80.95</td>\n",
              "      <td>90.003488</td>\n",
              "    </tr>\n",
              "    <tr>\n",
              "      <th>23-Nov-22</th>\n",
              "      <td>77.94</td>\n",
              "      <td>90.269798</td>\n",
              "    </tr>\n",
              "    <tr>\n",
              "      <th>24-Nov-22</th>\n",
              "      <td>77.95</td>\n",
              "      <td>90.540399</td>\n",
              "    </tr>\n",
              "    <tr>\n",
              "      <th>25-Nov-22</th>\n",
              "      <td>76.28</td>\n",
              "      <td>90.815502</td>\n",
              "    </tr>\n",
              "    <tr>\n",
              "      <th>28-Nov-22</th>\n",
              "      <td>77.24</td>\n",
              "      <td>91.095362</td>\n",
              "    </tr>\n",
              "    <tr>\n",
              "      <th>29-Nov-22</th>\n",
              "      <td>78.20</td>\n",
              "      <td>91.380220</td>\n",
              "    </tr>\n",
              "  </tbody>\n",
              "</table>\n",
              "</div>\n",
              "      <button class=\"colab-df-convert\" onclick=\"convertToInteractive('df-dfb313b7-abe0-46d8-9336-31661840ed87')\"\n",
              "              title=\"Convert this dataframe to an interactive table.\"\n",
              "              style=\"display:none;\">\n",
              "        \n",
              "  <svg xmlns=\"http://www.w3.org/2000/svg\" height=\"24px\"viewBox=\"0 0 24 24\"\n",
              "       width=\"24px\">\n",
              "    <path d=\"M0 0h24v24H0V0z\" fill=\"none\"/>\n",
              "    <path d=\"M18.56 5.44l.94 2.06.94-2.06 2.06-.94-2.06-.94-.94-2.06-.94 2.06-2.06.94zm-11 1L8.5 8.5l.94-2.06 2.06-.94-2.06-.94L8.5 2.5l-.94 2.06-2.06.94zm10 10l.94 2.06.94-2.06 2.06-.94-2.06-.94-.94-2.06-.94 2.06-2.06.94z\"/><path d=\"M17.41 7.96l-1.37-1.37c-.4-.4-.92-.59-1.43-.59-.52 0-1.04.2-1.43.59L10.3 9.45l-7.72 7.72c-.78.78-.78 2.05 0 2.83L4 21.41c.39.39.9.59 1.41.59.51 0 1.02-.2 1.41-.59l7.78-7.78 2.81-2.81c.8-.78.8-2.07 0-2.86zM5.41 20L4 18.59l7.72-7.72 1.47 1.35L5.41 20z\"/>\n",
              "  </svg>\n",
              "      </button>\n",
              "      \n",
              "  <style>\n",
              "    .colab-df-container {\n",
              "      display:flex;\n",
              "      flex-wrap:wrap;\n",
              "      gap: 12px;\n",
              "    }\n",
              "\n",
              "    .colab-df-convert {\n",
              "      background-color: #E8F0FE;\n",
              "      border: none;\n",
              "      border-radius: 50%;\n",
              "      cursor: pointer;\n",
              "      display: none;\n",
              "      fill: #1967D2;\n",
              "      height: 32px;\n",
              "      padding: 0 0 0 0;\n",
              "      width: 32px;\n",
              "    }\n",
              "\n",
              "    .colab-df-convert:hover {\n",
              "      background-color: #E2EBFA;\n",
              "      box-shadow: 0px 1px 2px rgba(60, 64, 67, 0.3), 0px 1px 3px 1px rgba(60, 64, 67, 0.15);\n",
              "      fill: #174EA6;\n",
              "    }\n",
              "\n",
              "    [theme=dark] .colab-df-convert {\n",
              "      background-color: #3B4455;\n",
              "      fill: #D2E3FC;\n",
              "    }\n",
              "\n",
              "    [theme=dark] .colab-df-convert:hover {\n",
              "      background-color: #434B5C;\n",
              "      box-shadow: 0px 1px 3px 1px rgba(0, 0, 0, 0.15);\n",
              "      filter: drop-shadow(0px 1px 2px rgba(0, 0, 0, 0.3));\n",
              "      fill: #FFFFFF;\n",
              "    }\n",
              "  </style>\n",
              "\n",
              "      <script>\n",
              "        const buttonEl =\n",
              "          document.querySelector('#df-dfb313b7-abe0-46d8-9336-31661840ed87 button.colab-df-convert');\n",
              "        buttonEl.style.display =\n",
              "          google.colab.kernel.accessAllowed ? 'block' : 'none';\n",
              "\n",
              "        async function convertToInteractive(key) {\n",
              "          const element = document.querySelector('#df-dfb313b7-abe0-46d8-9336-31661840ed87');\n",
              "          const dataTable =\n",
              "            await google.colab.kernel.invokeFunction('convertToInteractive',\n",
              "                                                     [key], {});\n",
              "          if (!dataTable) return;\n",
              "\n",
              "          const docLinkHtml = 'Like what you see? Visit the ' +\n",
              "            '<a target=\"_blank\" href=https://colab.research.google.com/notebooks/data_table.ipynb>data table notebook</a>'\n",
              "            + ' to learn more about interactive tables.';\n",
              "          element.innerHTML = '';\n",
              "          dataTable['output_type'] = 'display_data';\n",
              "          await google.colab.output.renderOutput(dataTable, element);\n",
              "          const docLink = document.createElement('div');\n",
              "          docLink.innerHTML = docLinkHtml;\n",
              "          element.appendChild(docLink);\n",
              "        }\n",
              "      </script>\n",
              "    </div>\n",
              "  </div>\n",
              "  "
            ]
          },
          "metadata": {},
          "execution_count": 95
        }
      ]
    },
    {
      "cell_type": "code",
      "source": [
        "from sklearn.metrics import mean_squared_error\n",
        "from math import sqrt\n",
        "rmse=sqrt(mean_squared_error(test['Price'],test['prediction']))\n",
        "print(rmse)"
      ],
      "metadata": {
        "colab": {
          "base_uri": "https://localhost:8080/"
        },
        "id": "GsYdduxRtf_W",
        "outputId": "844ea480-aa37-496d-aeb4-6a23fed8098f"
      },
      "execution_count": 96,
      "outputs": [
        {
          "output_type": "stream",
          "name": "stdout",
          "text": [
            "7.308555070128715\n"
          ]
        }
      ]
    },
    {
      "cell_type": "code",
      "source": [
        "test.plot()"
      ],
      "metadata": {
        "colab": {
          "base_uri": "https://localhost:8080/",
          "height": 296
        },
        "id": "Id3Nh3JXt77L",
        "outputId": "789d4d96-896c-4779-a401-a2d1c6c36d9f"
      },
      "execution_count": 97,
      "outputs": [
        {
          "output_type": "execute_result",
          "data": {
            "text/plain": [
              "<matplotlib.axes._subplots.AxesSubplot at 0x7ff72bdc8070>"
            ]
          },
          "metadata": {},
          "execution_count": 97
        },
        {
          "output_type": "display_data",
          "data": {
            "text/plain": [
              "<Figure size 432x288 with 1 Axes>"
            ],
            "image/png": "[encoded data removed]"
          },
          "metadata": {
            "needs_background": "light"
          }
        }
      ]
    },
    {
      "cell_type": "code",
      "source": [
        "Next_thirtydays_predictions = []\n",
        "\n",
        "first_eval_batch = scaled_test[-n_input:]\n",
        "current_batch = first_eval_batch.reshape((1, n_input, n_features))\n",
        "\n",
        "for i in range(30):\n",
        "    \n",
        "    # get the prediction value for the first batch\n",
        "    current_pred = model.predict(current_batch)[0]\n",
        "    \n",
        "    # append the prediction into the array\n",
        "    Next_thirtydays_predictions.append(current_pred) \n",
        "    \n",
        "    # use the prediction to update the batch and remove the first value\n",
        "    current_batch = np.append(current_batch[:,1:,:],[[current_pred]],axis=1)"
      ],
      "metadata": {
        "colab": {
          "base_uri": "https://localhost:8080/"
        },
        "id": "jV8z3LJfvRDY",
        "outputId": "5043a769-cc36-4fc6-9ac9-d89fb08c7354"
      },
      "execution_count": 98,
      "outputs": [
        {
          "output_type": "stream",
          "name": "stdout",
          "text": [
            "1/1 [==============================] - 0s 20ms/step\n",
            "1/1 [==============================] - 0s 21ms/step\n",
            "1/1 [==============================] - 0s 19ms/step\n",
            "1/1 [==============================] - 0s 19ms/step\n",
            "1/1 [==============================] - 0s 19ms/step\n",
            "1/1 [==============================] - 0s 22ms/step\n",
            "1/1 [==============================] - 0s 20ms/step\n",
            "1/1 [==============================] - 0s 22ms/step\n",
            "1/1 [==============================] - 0s 19ms/step\n",
            "1/1 [==============================] - 0s 20ms/step\n",
            "1/1 [==============================] - 0s 21ms/step\n",
            "1/1 [==============================] - 0s 22ms/step\n",
            "1/1 [==============================] - 0s 20ms/step\n",
            "1/1 [==============================] - 0s 19ms/step\n",
            "1/1 [==============================] - 0s 19ms/step\n",
            "1/1 [==============================] - 0s 20ms/step\n",
            "1/1 [==============================] - 0s 28ms/step\n",
            "1/1 [==============================] - 0s 26ms/step\n",
            "1/1 [==============================] - 0s 20ms/step\n",
            "1/1 [==============================] - 0s 23ms/step\n",
            "1/1 [==============================] - 0s 28ms/step\n",
            "1/1 [==============================] - 0s 21ms/step\n",
            "1/1 [==============================] - 0s 20ms/step\n",
            "1/1 [==============================] - 0s 20ms/step\n",
            "1/1 [==============================] - 0s 30ms/step\n",
            "1/1 [==============================] - 0s 24ms/step\n",
            "1/1 [==============================] - 0s 21ms/step\n",
            "1/1 [==============================] - 0s 18ms/step\n",
            "1/1 [==============================] - 0s 21ms/step\n",
            "1/1 [==============================] - 0s 21ms/step\n"
          ]
        }
      ]
    },
    {
      "cell_type": "code",
      "source": [
        "Next_thirtydays_predictions=scaler.inverse_transform(Next_thirtydays_predictions)"
      ],
      "metadata": {
        "id": "PJDUlt5Cwf8N"
      },
      "execution_count": 99,
      "outputs": []
    },
    {
      "cell_type": "code",
      "source": [
        "plt.plot(Next_thirtydays_predictions)"
      ],
      "metadata": {
        "colab": {
          "base_uri": "https://localhost:8080/",
          "height": 282
        },
        "id": "OVEaKfPBwubW",
        "outputId": "d8325ba5-60cb-4e31-9e2f-edcdd4e2ed7d"
      },
      "execution_count": 100,
      "outputs": [
        {
          "output_type": "execute_result",
          "data": {
            "text/plain": [
              "[<matplotlib.lines.Line2D at 0x7ff729e615b0>]"
            ]
          },
          "metadata": {},
          "execution_count": 100
        },
        {
          "output_type": "display_data",
          "data": {
            "text/plain": [
              "<Figure size 432x288 with 1 Axes>"
            ],
            "image/png": "[encoded data removed]"
          },
          "metadata": {
            "needs_background": "light"
          }
        }
      ]
    },
    {
      "cell_type": "code",
      "source": [],
      "metadata": {
        "id": "6UHA-nw-xN5l"
      },
      "execution_count": null,
      "outputs": []
    }
  ]
}